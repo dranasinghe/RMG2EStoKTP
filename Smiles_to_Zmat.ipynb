{
 "cells": [
  {
   "cell_type": "markdown",
   "metadata": {},
   "source": [
    "This code will generate Z- Matrix from smiles"
   ]
  },
  {
   "cell_type": "code",
   "execution_count": 1,
   "metadata": {},
   "outputs": [],
   "source": [
    "import rmgpy\n",
    "import numpy as np\n",
    "from rmgpy.molecule.molecule import *\n",
    "from rmgpy.species import *\n",
    "from IPython.display import display\n",
    "from rdkit import Chem\n",
    "from rdkit.Chem import AllChem\n",
    "import openbabel as ob\n",
    "from rmgpy.molecule.converter import toOBMol\n",
    "import pybel as pyb\n",
    "import os.path\n",
    "from IPython.display import display"
   ]
  },
  {
   "cell_type": "code",
   "execution_count": 2,
   "metadata": {},
   "outputs": [
    {
     "data": {
      "text/plain": [
       "'CCC'"
      ]
     },
     "execution_count": 2,
     "metadata": {},
     "output_type": "execute_result"
    }
   ],
   "source": [
    "P1='CCC'\n",
    "prod1 = Molecule().fromSMILES(P1)\n",
    "P1"
   ]
  },
  {
   "cell_type": "code",
   "execution_count": 3,
   "metadata": {},
   "outputs": [
    {
     "data": {
      "image/png": "[encoded data removed]",
      "text/plain": [
       "Molecule(SMILES=\"CCC\")"
      ]
     },
     "execution_count": 3,
     "metadata": {},
     "output_type": "execute_result"
    }
   ],
   "source": [
    "prod1"
   ]
  },
  {
   "cell_type": "code",
   "execution_count": 4,
   "metadata": {},
   "outputs": [
    {
     "data": {
      "text/plain": [
       "1"
      ]
     },
     "execution_count": 4,
     "metadata": {},
     "output_type": "execute_result"
    }
   ],
   "source": [
    "prod1.multiplicity"
   ]
  },
  {
   "cell_type": "code",
   "execution_count": 5,
   "metadata": {},
   "outputs": [
    {
     "data": {
      "text/plain": [
       "-1.0"
      ]
     },
     "execution_count": 5,
     "metadata": {},
     "output_type": "execute_result"
    }
   ],
   "source": [
    "prod1.symmetryNumber"
   ]
  },
  {
   "cell_type": "code",
   "execution_count": 6,
   "metadata": {},
   "outputs": [],
   "source": [
    "\n",
    "#rdmol,rdInds = prod1.toRDKitMol(removeHs=False,returnMapping=True)\n",
    "#rdmol\n"
   ]
  },
  {
   "cell_type": "code",
   "execution_count": 7,
   "metadata": {},
   "outputs": [],
   "source": [
    "def findInternalRotorInds(mol):\n",
    "    \"\"\"\n",
    "    locates the sets of indices corresponding to every internal rotor\n",
    "    \"\"\"\n",
    "    rotors = []\n",
    "    for atom1 in mol.vertices:\n",
    "        for atom2, bond in atom1.edges.items():\n",
    "            if mol.vertices.index(atom1) < mol.vertices.index(atom2) and (bond.isSingle() or bond.isHydrogenBond()) and not mol.isBondInCycle(bond):\n",
    "                if len(atom1.edges) > 1 and len(atom2.edges) > 1:\n",
    "                    rotor = []\n",
    "                    for atm in atom1.edges.keys():\n",
    "                        if atm == atom2:\n",
    "                            continue\n",
    "                        else:\n",
    "                            rotor.append(mol.atoms.index(atm))\n",
    "                            break\n",
    "                    rotor.append(mol.atoms.index(atom1))\n",
    "                    rotor.append(mol.atoms.index(atom2))\n",
    "                    for atm in atom2.edges.keys():\n",
    "                        if atm == atom1:\n",
    "                            continue\n",
    "                        else:\n",
    "                            rotor.append(mol.atoms.index(atm))\n",
    "                            break\n",
    "                    rotors.append(rotor)\n",
    "    return rotors"
   ]
  },
  {
   "cell_type": "code",
   "execution_count": 8,
   "metadata": {},
   "outputs": [],
   "source": [
    "atomList = [x.atomType.label for x in prod1.atoms]\n",
    "IntRotList = findInternalRotorInds(prod1)"
   ]
  },
  {
   "cell_type": "markdown",
   "metadata": {},
   "source": [
    "Finding lowest energy conformer. from Matt's code\n",
    "This might not be needed since EStoKTp use monte carlo analasis to find the lowest erengy conformer"
   ]
  },
  {
   "cell_type": "code",
   "execution_count": 9,
   "metadata": {},
   "outputs": [],
   "source": [
    "def getPossibleConformersRDKit(mol):\n",
    "    \"\"\"\n",
    "    Uses Rdkit to automatically generate set of len(mol.atoms)-3)*6 initial geometries, optimizes\n",
    "    these geometries using MMFF94s, calculates the energies using MMFF94s\n",
    "    and converts them back in terms of the RMG atom ordering\n",
    "    Returns the coordinates and energies\n",
    "    \"\"\"\n",
    "    rdmol,rdInds = mol.toRDKitMol(removeHs=False,returnMapping=True)\n",
    "    rdIndMap = dict()\n",
    "    for k,atm in enumerate(mol.atoms):\n",
    "        ind = rdInds[atm]\n",
    "        rdIndMap[ind] = k\n",
    "\n",
    "    #AllChem.EmbedMultipleConfs(rdmol,numConfs=(len(mol.atoms)-3)*60,randomSeed=1,)\n",
    "    AllChem.EmbedMultipleConfs(rdmol,numConfs=2,randomSeed=1,)\n",
    "    energies = []\n",
    "    xyzs = []\n",
    "    for i in xrange(rdmol.GetNumConformers()):\n",
    "        v = 1\n",
    "        while v == 1:\n",
    "            v = AllChem.MMFFOptimizeMolecule(rdmol,mmffVariant='MMFF94s',confId=i,maxIters=500,ignoreInterfragInteractions=False)\n",
    "        mp = AllChem.MMFFGetMoleculeProperties(rdmol,mmffVariant='MMFF94s')\n",
    "        ff = AllChem.MMFFGetMoleculeForceField(rdmol,mp,confId=i)\n",
    "        E = ff.CalcEnergy()\n",
    "        energies.append(E)\n",
    "        cf = rdmol.GetConformer(i)\n",
    "        xyz = []\n",
    "        for j in xrange(cf.GetNumAtoms()):\n",
    "            pt = cf.GetAtomPosition(j)\n",
    "            xyz.append([pt.x,pt.y,pt.z])\n",
    "        xyz = [xyz[rdIndMap[i]] for i in xrange(len(xyz))]\n",
    "        xyzs.append(xyz)\n",
    "        \n",
    "    return xyzs,energies"
   ]
  },
  {
   "cell_type": "code",
   "execution_count": 10,
   "metadata": {},
   "outputs": [],
   "source": [
    "xyzs,es = getPossibleConformersRDKit(prod1)"
   ]
  },
  {
   "cell_type": "code",
   "execution_count": 11,
   "metadata": {},
   "outputs": [],
   "source": [
    "#if len(IntRotList)>0:\n",
    "#    xyzs,es = getPossibleConformersRDKit(prod1)"
   ]
  },
  {
   "cell_type": "code",
   "execution_count": 12,
   "metadata": {},
   "outputs": [],
   "source": [
    "def getMinEnergyConformer(xyzs,energies):\n",
    "    minval = min(energies)\n",
    "    minind = energies.index(minval)\n",
    "    return xyzs[minind]"
   ]
  },
  {
   "cell_type": "code",
   "execution_count": 13,
   "metadata": {},
   "outputs": [],
   "source": [
    "#if len(IntRotList)>0:\n",
    "xyzmin = getMinEnergyConformer(xyzs,es)\n",
    "#else:\n",
    "#    xyzmin=prod1\n",
    "#atomList = [x.atomType.label for x in prod1.atoms]\n",
    "#IntRotList = findInternalRotorInds(prod1)"
   ]
  },
  {
   "cell_type": "code",
   "execution_count": 14,
   "metadata": {},
   "outputs": [
    {
     "data": {
      "text/plain": [
       "[[-0.061593640199089736, 0.6032299529080738, -0.12720403753961873],\n",
       " [1.248890822837117, -0.056027078996183075, 0.2682431317893901],\n",
       " [-1.2024084001940087, -0.399207557478795, -0.17224686444889364],\n",
       " [-0.3014158911002869, 1.3968081634462168, 0.5891250338694982],\n",
       " [0.04910429656573524, 1.074257362509034, -1.1102032668079778],\n",
       " [1.527476179488654, -0.8359102809471514, -0.4477045213213312],\n",
       " [1.1750388198482453, -0.5115936571810953, 1.260923615928825],\n",
       " [2.0538299296328244, 0.6851395440935312, 0.29359552859107513],\n",
       " [-1.3537388552461167, -0.8656231016025093, 0.8065100570243616],\n",
       " [-2.133881778228453, 0.09886247231900364, -0.4589197275020419],\n",
       " [-1.0013014834046259, -1.1899358190701232, -0.9021189495832999]]"
      ]
     },
     "execution_count": 14,
     "metadata": {},
     "output_type": "execute_result"
    }
   ],
   "source": [
    "xyzmin"
   ]
  },
  {
   "cell_type": "code",
   "execution_count": 15,
   "metadata": {},
   "outputs": [
    {
     "data": {
      "text/plain": [
       "['Cs', 'Cs', 'Cs', 'H', 'H', 'H', 'H', 'H', 'H', 'H', 'H']"
      ]
     },
     "execution_count": 15,
     "metadata": {},
     "output_type": "execute_result"
    }
   ],
   "source": [
    "atomList"
   ]
  },
  {
   "cell_type": "code",
   "execution_count": 16,
   "metadata": {},
   "outputs": [
    {
     "data": {
      "text/plain": [
       "[[3, 0, 1, 2], [0, 1, 2, 8]]"
      ]
     },
     "execution_count": 16,
     "metadata": {},
     "output_type": "execute_result"
    }
   ],
   "source": [
    "IntRotList"
   ]
  },
  {
   "cell_type": "code",
   "execution_count": 17,
   "metadata": {},
   "outputs": [
    {
     "data": {
      "text/plain": [
       "'ATUOYWHBWRKTHZ-UHFFFAOYSA-N'"
      ]
     },
     "execution_count": 17,
     "metadata": {},
     "output_type": "execute_result"
    }
   ],
   "source": [
    " index = prod1.toInChIKey()\n",
    " index"
   ]
  },
  {
   "cell_type": "code",
   "execution_count": 18,
   "metadata": {},
   "outputs": [],
   "source": [
    "    cwd = os.getcwd()\n",
    "    save_path = cwd + '/' + str(index)\n",
    "    save_path\n",
    "    #os.makedirs(save_path)\n",
    "    try:\n",
    "        os.makedirs(save_path)\n",
    "    except OSError as ex:\n",
    "        if ex.errno == 17 and os.path.isdir(save_path):\n",
    "            pass\n",
    "        else:\n",
    "            print('An error happened trying to create ' + save_path)\n",
    "            raise "
   ]
  },
  {
   "cell_type": "code",
   "execution_count": 19,
   "metadata": {},
   "outputs": [],
   "source": [
    "def writecartesian(atomList,xyzmin,introtlist,index):\n",
    "    cwd = os.getcwd()\n",
    "    save_path = cwd + '/' + str(index)\n",
    "    save_path\n",
    "    #os.makedirs(save_path)\n",
    "    try:\n",
    "        os.makedirs(save_path)\n",
    "    except OSError as ex:\n",
    "        if ex.errno == 17 and os.path.isdir(save_path):\n",
    "            pass\n",
    "        else:\n",
    "            print('An error happened trying to create ' + save_path)\n",
    "            raise \n",
    "    filename = os.path.join(save_path, str(index) + '_xyz.gjf')\n",
    "    #write to a gaussian input file \n",
    "    file = open(filename, 'wb')\n",
    "    file.write('#P\\n\\n')\n",
    "    file.write(index + '\\n\\n')\n",
    "    file.write('0 1\\n')\n",
    "    for i in range(len(xyzmin)):\n",
    "        file.write(' ' + atomList[i][0] + '            '+ str(xyzmin[i][0]) + ' '+ str(xyzmin[i][1]) + ' '+ str(xyzmin[i][2]) + '\\n')\n",
    "        file.write('\\n')\n",
    "    file.close()\n",
    "  "
   ]
  },
  {
   "cell_type": "code",
   "execution_count": 20,
   "metadata": {},
   "outputs": [],
   "source": [
    "writecartesian(atomList,xyzmin,IntRotList,index)"
   ]
  },
  {
   "cell_type": "code",
   "execution_count": 21,
   "metadata": {},
   "outputs": [
    {
     "data": {
      "text/plain": [
       "[['C', array([-0.06159364,  0.60322995, -0.12720404])],\n",
       " ['C', array([ 1.24889082, -0.05602708,  0.26824313])],\n",
       " ['C', array([-1.2024084 , -0.39920756, -0.17224686])],\n",
       " ['H', array([-0.30141589,  1.39680816,  0.58912503])],\n",
       " ['H', array([ 0.0491043 ,  1.07425736, -1.11020327])],\n",
       " ['H', array([ 1.52747618, -0.83591028, -0.44770452])],\n",
       " ['H', array([ 1.17503882, -0.51159366,  1.26092362])],\n",
       " ['H', array([ 2.05382993,  0.68513954,  0.29359553])],\n",
       " ['H', array([-1.35373886, -0.8656231 ,  0.80651006])],\n",
       " ['H', array([-2.13388178,  0.09886247, -0.45891973])],\n",
       " ['H', array([-1.00130148, -1.18993582, -0.90211895])]]"
      ]
     },
     "execution_count": 21,
     "metadata": {},
     "output_type": "execute_result"
    }
   ],
   "source": [
    "cartesian=[]\n",
    "for i in range(len(xyzmin)):\n",
    "    cartesian.append([atomList[i][0],np.array([xyzmin[i][0], xyzmin[i][1], xyzmin[i][2]],dtype='f8')])\n",
    "cartesian"
   ]
  },
  {
   "cell_type": "code",
   "execution_count": 22,
   "metadata": {},
   "outputs": [
    {
     "data": {
      "text/plain": [
       "11"
      ]
     },
     "execution_count": 22,
     "metadata": {},
     "output_type": "execute_result"
    }
   ],
   "source": [
    "len(cartesian)"
   ]
  },
  {
   "cell_type": "markdown",
   "metadata": {},
   "source": [
    "write roters"
   ]
  },
  {
   "cell_type": "code",
   "execution_count": 23,
   "metadata": {},
   "outputs": [],
   "source": [
    "def writeroters(introtlist):\n",
    " for i in range(len(introtlist)):\n",
    "        print('D    '+ str(introtlist[i][0] + 1) + '   ' + str(introtlist[i][1] + 1) + '   ' + str(introtlist[i][2] + 1) + '   ' + str(introtlist[i][3] + 1) + '   S   36   10.00')"
   ]
  },
  {
   "cell_type": "code",
   "execution_count": 24,
   "metadata": {},
   "outputs": [
    {
     "name": "stdout",
     "output_type": "stream",
     "text": [
      "D    4   1   2   3   S   36   10.00\n",
      "D    1   2   3   9   S   36   10.00\n"
     ]
    }
   ],
   "source": [
    "writeroters(IntRotList)"
   ]
  },
  {
   "cell_type": "markdown",
   "metadata": {},
   "source": [
    "converting the  cartesian geomatry into Zmatrix\n",
    "the algorithm and code  is taken from \n",
    "https://github.com/jevandezande/zmatrix"
   ]
  },
  {
   "cell_type": "code",
   "execution_count": 25,
   "metadata": {},
   "outputs": [],
   "source": [
    " def add_first_three_to_zmatrix(cartesian):\n",
    "        \"\"\"The first three atoms need to be treated differently\"\"\"\n",
    "        # First atom\n",
    "        name, position= cartesian[0]\n",
    "        zmatrix.append([name, [[], [], []]])\n",
    "\n",
    "        # Second atom\n",
    "        if len(cartesian) > 1:\n",
    "            name, position = cartesian[1]\n",
    "            atom1 = cartesian[0]\n",
    "            pos1 = atom1[1]\n",
    "            q = pos1 - position\n",
    "            distance = np.sqrt(np.dot(q, q))\n",
    "            zmatrix.append([name, [[0, distance], [], []]])\n",
    "\n",
    "        # Third atom\n",
    "        if len(cartesian) > 2:\n",
    "            name, position = cartesian[2]\n",
    "            atom1, atom2 = cartesian[:2]\n",
    "            pos1, pos2 = atom1[1], atom2[1]\n",
    "            q = pos1 - position\n",
    "            r = pos2 - pos1\n",
    "            q_u = q / np.sqrt(np.dot(q, q))\n",
    "            r_u = r / np.sqrt(np.dot(r, r))\n",
    "            distance = np.sqrt(np.dot(q, q))\n",
    "            # Angle between a and b = acos(dot(a, b)) / (|a| |b|))\n",
    "            angle = np.arccos(np.dot(-q_u, r_u))\n",
    "            zmatrix.append(\n",
    "                [name, [[0, distance], [1, np.degrees(angle)], []]])\n",
    "        print(zmatrix)"
   ]
  },
  {
   "cell_type": "code",
   "execution_count": 26,
   "metadata": {},
   "outputs": [],
   "source": [
    "def add_atom_to_zmatrix(cartesian, i, line):\n",
    "        \"\"\"Generates an atom for the zmatrix\n",
    "        (assumes that three previous atoms have been placed in the cartesian coordiantes)\"\"\"\n",
    "        name, position = line\n",
    "        atom1, atom2, atom3 = cartesian[:3]\n",
    "        pos1, pos2, pos3 = atom1[1], atom2[1], atom3[1]\n",
    "        # Create vectors pointing from one atom to the next\n",
    "        q = pos1 - position\n",
    "        r = pos2 - pos1\n",
    "        s = pos3 - pos2\n",
    "        position_u = position / np.sqrt(np.dot(position, position))\n",
    "        # Create unit vectors\n",
    "        q_u = q / np.sqrt(np.dot(q, q))\n",
    "        r_u = r / np.sqrt(np.dot(r, r))\n",
    "        s_u = s / np.sqrt(np.dot(s, s))\n",
    "        distance = np.sqrt(np.dot(q, q))\n",
    "        # Angle between a and b = acos(dot(a, b)) / (|a| |b|))\n",
    "        angle = np.arccos(np.dot(-q_u, r_u))\n",
    "        angle_123 = np.arccos(np.dot(-r_u, s_u))\n",
    "        # Dihedral angle =\n",
    "        #   acos(dot(normal_vec1, normal_vec2)) / (|normal_vec1| |normal_vec2|))\n",
    "        plane1 = np.cross(q, r)\n",
    "        plane2 = np.cross(r, s)\n",
    "        dihedral = np.arccos(np.dot(\n",
    "            plane1, plane2) / (np.sqrt(np.dot(plane1, plane1)) * np.sqrt(np.dot(plane2, plane2))))\n",
    "        # Convert to signed dihedral angle\n",
    "        if np.dot(np.cross(plane1, plane2), r_u) < 0:\n",
    "            dihedral = -dihedral\n",
    "\n",
    "        coords = [[0, distance], [1, np.degrees(angle)], [\n",
    "            2, np.degrees(dihedral)]]\n",
    "        atom = [name, coords]\n",
    "        zmatrix.append(atom)"
   ]
  },
  {
   "cell_type": "code",
   "execution_count": 27,
   "metadata": {},
   "outputs": [],
   "source": [
    "def cartesian_to_zmatrix(cartesian):\n",
    "        \"\"\"Convert the cartesian coordinates to a zmatrix\"\"\"\n",
    "        add_first_three_to_zmatrix(cartesian)\n",
    "        for i, atom in enumerate(cartesian[3:], start=3):\n",
    "            add_atom_to_zmatrix(cartesian,i, atom)\n",
    "\n",
    "        return zmatrix"
   ]
  },
  {
   "cell_type": "code",
   "execution_count": 28,
   "metadata": {},
   "outputs": [
    {
     "name": "stdout",
     "output_type": "stream",
     "text": [
      "[['C', [[], [], []]], ['C', [[0, 1.5193313745542252], [], []]], ['C', [[0, 1.5193314763766552], [1, 111.65877337306692], []]]]\n"
     ]
    },
    {
     "data": {
      "text/plain": [
       "[['C', [[], [], []]],\n",
       " ['C', [[0, 1.5193313745542252], [], []]],\n",
       " ['C', [[0, 1.5193314763766552], [1, 111.65877337306692], []]],\n",
       " ['H',\n",
       "  [[0, 1.0956315196333508], [1, 109.44600559496776], [2, 121.33784244924358]]],\n",
       " ['H',\n",
       "  [[0, 1.0956314793494972],\n",
       "   [1, 109.44598526560351],\n",
       "   [2, -121.33778502439287]]],\n",
       " ['H',\n",
       "  [[0, 2.1677149408184699],\n",
       "   [1, 28.129209182950127],\n",
       "   [2, -60.244185516753284]]],\n",
       " ['H',\n",
       "  [[0, 2.1677153653509906], [1, 28.129213142047924], [2, 60.244318643962153]]],\n",
       " ['H',\n",
       "  [[0, 2.1584249664476056],\n",
       "   [1, 28.401929847018113],\n",
       "   [2, -179.99993078638664]]],\n",
       " ['H',\n",
       "  [[0, 2.1677155170597069], [1, 96.200987026832038], [2, 24.312137794520734]]],\n",
       " ['H',\n",
       "  [[0, 2.1584253476690405],\n",
       "   [1, 140.06069434309703],\n",
       "   [2, 3.1933873632997163e-05]]],\n",
       " ['H',\n",
       "  [[0, 2.1677147961122167],\n",
       "   [1, 96.201047974469532],\n",
       "   [2, -24.312185404384746]]]]"
      ]
     },
     "execution_count": 28,
     "metadata": {},
     "output_type": "execute_result"
    }
   ],
   "source": [
    "zmatrix = []\n",
    "cartesian_to_zmatrix(cartesian)"
   ]
  },
  {
   "cell_type": "code",
   "execution_count": 29,
   "metadata": {},
   "outputs": [
    {
     "data": {
      "text/plain": [
       "[['C', [[], [], []]],\n",
       " ['C', [[0, 1.5193313745542252], [], []]],\n",
       " ['C', [[0, 1.5193314763766552], [1, 111.65877337306692], []]],\n",
       " ['H',\n",
       "  [[0, 1.0956315196333508], [1, 109.44600559496776], [2, 121.33784244924358]]],\n",
       " ['H',\n",
       "  [[0, 1.0956314793494972],\n",
       "   [1, 109.44598526560351],\n",
       "   [2, -121.33778502439287]]],\n",
       " ['H',\n",
       "  [[0, 2.1677149408184699],\n",
       "   [1, 28.129209182950127],\n",
       "   [2, -60.244185516753284]]],\n",
       " ['H',\n",
       "  [[0, 2.1677153653509906], [1, 28.129213142047924], [2, 60.244318643962153]]],\n",
       " ['H',\n",
       "  [[0, 2.1584249664476056],\n",
       "   [1, 28.401929847018113],\n",
       "   [2, -179.99993078638664]]],\n",
       " ['H',\n",
       "  [[0, 2.1677155170597069], [1, 96.200987026832038], [2, 24.312137794520734]]],\n",
       " ['H',\n",
       "  [[0, 2.1584253476690405],\n",
       "   [1, 140.06069434309703],\n",
       "   [2, 3.1933873632997163e-05]]],\n",
       " ['H',\n",
       "  [[0, 2.1677147961122167],\n",
       "   [1, 96.201047974469532],\n",
       "   [2, -24.312185404384746]]]]"
      ]
     },
     "execution_count": 29,
     "metadata": {},
     "output_type": "execute_result"
    }
   ],
   "source": [
    "zmatrix"
   ]
  },
  {
   "cell_type": "code",
   "execution_count": 30,
   "metadata": {},
   "outputs": [
    {
     "data": {
      "text/plain": [
       "11"
      ]
     },
     "execution_count": 30,
     "metadata": {},
     "output_type": "execute_result"
    }
   ],
   "source": [
    "len(zmatrix)"
   ]
  },
  {
   "cell_type": "code",
   "execution_count": 31,
   "metadata": {},
   "outputs": [
    {
     "data": {
      "text/plain": [
       "'121.3378'"
      ]
     },
     "execution_count": 31,
     "metadata": {},
     "output_type": "execute_result"
    }
   ],
   "source": [
    "zmatrix[3][1]\n",
    "pos1, pos2, pos3 = zmatrix[3][1]\n",
    "pos2\n",
    "pos2[0]+1\n",
    "pos3[1]\n",
    "format(pos3[1],'.4f')"
   ]
  },
  {
   "cell_type": "code",
   "execution_count": 32,
   "metadata": {},
   "outputs": [],
   "source": [
    "def writezmatrix(zmatrix):\n",
    "    cwd = os.getcwd()\n",
    "    save_path = cwd + '/' + str(index)\n",
    "    save_path\n",
    "    #os.makedirs(save_path)\n",
    "    try:\n",
    "        os.makedirs(save_path)\n",
    "    except OSError as ex:\n",
    "        if ex.errno == 17 and os.path.isdir(save_path):\n",
    "            pass\n",
    "        else:\n",
    "            print('An error happened trying to create ' + save_path)\n",
    "            raise \n",
    "    filename = os.path.join(save_path, str(index) + '_zmat.gjf')\n",
    "    #write to a gaussian input file \n",
    "    file = open(filename, 'wb')\n",
    "    file.write('#P\\n\\n')\n",
    "    file.write(index + '\\n\\n')\n",
    "    file.write('0 1\\n')\n",
    "    for i in range(len(zmatrix)):\n",
    "        pos1, pos2, pos3 = zmatrix[i][1]\n",
    "        if i == 0:\n",
    "            file.write(zmatrix[i][0]) \n",
    "        if i == 1:\n",
    "            file.write(zmatrix[i][0] + \n",
    "                       ' '+str(pos1[0]+1)+ ' ' + str(format(pos1[1],'.4f')))   \n",
    "        if i == 2:\n",
    "            file.write(zmatrix[i][0] + \n",
    "                       ' '+str(pos1[0]+1)+ ' ' + str(format(pos1[1],'.4f')) + \n",
    "                       ' '+str(pos2[0]+1)+ ' ' + str(format(pos2[1],'.4f')) )         \n",
    "        if i > 2:\n",
    "            file.write(zmatrix[i][0] + \n",
    "                       ' '+str(pos1[0]+1)+ ' ' + str(format(pos1[1],'.4f')) + \n",
    "                       ' '+str(pos2[0]+1)+ ' ' + str(format(pos2[1],'.4f')) +\n",
    "                       ' '+str(pos3[0]+1)+ ' ' + str(format(pos3[1],'.4f')) ) \n",
    "        #file.write( zmatrix[i][0] + ' '+ str(zmatrix[i][1]) + '\\n')\n",
    "        file.write('\\n')\n",
    "    file.close()"
   ]
  },
  {
   "cell_type": "code",
   "execution_count": 33,
   "metadata": {},
   "outputs": [],
   "source": [
    "writezmatrix(zmatrix)"
   ]
  },
  {
   "cell_type": "code",
   "execution_count": 34,
   "metadata": {},
   "outputs": [
    {
     "name": "stdout",
     "output_type": "stream",
     "text": [
      "D    4   1   2   3   S   36   10.00\n",
      "D    1   2   3   9   S   36   10.00\n"
     ]
    }
   ],
   "source": [
    "writeroters(IntRotList)"
   ]
  },
  {
   "cell_type": "code",
   "execution_count": 35,
   "metadata": {},
   "outputs": [
    {
     "data": {
      "text/plain": [
       "[['C', [[], [], []]],\n",
       " ['C', [[0, 1.5193313745542252], [], []]],\n",
       " ['C', [[0, 1.5193314763766552], [1, 111.65877337306692], []]],\n",
       " ['H',\n",
       "  [[0, 1.0956315196333508], [1, 109.44600559496776], [2, 121.33784244924358]]],\n",
       " ['H',\n",
       "  [[0, 1.0956314793494972],\n",
       "   [1, 109.44598526560351],\n",
       "   [2, -121.33778502439287]]],\n",
       " ['H',\n",
       "  [[0, 2.1677149408184699],\n",
       "   [1, 28.129209182950127],\n",
       "   [2, -60.244185516753284]]],\n",
       " ['H',\n",
       "  [[0, 2.1677153653509906], [1, 28.129213142047924], [2, 60.244318643962153]]],\n",
       " ['H',\n",
       "  [[0, 2.1584249664476056],\n",
       "   [1, 28.401929847018113],\n",
       "   [2, -179.99993078638664]]],\n",
       " ['H',\n",
       "  [[0, 2.1677155170597069], [1, 96.200987026832038], [2, 24.312137794520734]]],\n",
       " ['H',\n",
       "  [[0, 2.1584253476690405],\n",
       "   [1, 140.06069434309703],\n",
       "   [2, 3.1933873632997163e-05]]],\n",
       " ['H',\n",
       "  [[0, 2.1677147961122167],\n",
       "   [1, 96.201047974469532],\n",
       "   [2, -24.312185404384746]]]]"
      ]
     },
     "execution_count": 35,
     "metadata": {},
     "output_type": "execute_result"
    }
   ],
   "source": [
    "zmatrix"
   ]
  },
  {
   "cell_type": "code",
   "execution_count": 36,
   "metadata": {},
   "outputs": [
    {
     "name": "stdout",
     "output_type": "stream",
     "text": [
      "(['rCH5', '1.0956'], ['aCCH5', '109.4460'], ['d4', '-121.3378'])\n"
     ]
    }
   ],
   "source": [
    "i=4\n",
    "pos1, pos2, pos3 = zmatrix[i][1]\n",
    "#print(zmatrix[i][0],pos1, pos2, pos3)\n",
    "#print(pos1[0],pos1[1])\n",
    "atom1=int(pos1[0])+1\n",
    "atom2=int(pos2[0])+1\n",
    "#print(atom1)\n",
    "#print(zmatrix[i-atom1][0])\n",
    "#print('r'+str(zmatrix[i-atom1][0])+str(zmatrix[i][0])+str(atom1))\n",
    "distant=[]\n",
    "distant=[str('r'+str(zmatrix[atom1][0])+str(zmatrix[i][0])+str(i+1)),format(pos1[1],'.4f')]\n",
    "#print('distant',distant)\n",
    "#print('a'+str(zmatrix[i-atom1][0])+str(zmatrix[i-atom2][0])+str(zmatrix[i][0])+str(atom1))\n",
    "angle=[]\n",
    "angle=[str('a'+str(zmatrix[atom1][0])+str(zmatrix[atom2][0])+str(zmatrix[i][0])+str(i+1))\n",
    "       ,format(pos2[1],'.4f')]\n",
    "#print('angle',angle)\n",
    "#print(str('d'+str(i)))\n",
    "dihidral=[]\n",
    "dihidral=[str('d'+str(i)),format(pos3[1],'.4f')]\n",
    "print(distant,angle,dihidral)"
   ]
  },
  {
   "cell_type": "code",
   "execution_count": 37,
   "metadata": {},
   "outputs": [],
   "source": [
    "varibables=[]"
   ]
  },
  {
   "cell_type": "code",
   "execution_count": 38,
   "metadata": {},
   "outputs": [],
   "source": [
    "def writezmatrix2(zmatrix,fname):\n",
    "    cwd = os.getcwd()\n",
    "    save_path = cwd + '/' + str(index)\n",
    "    save_path\n",
    "    #os.makedirs(save_path)\n",
    "    try:\n",
    "        os.makedirs(save_path)\n",
    "    except OSError as ex:\n",
    "        if ex.errno == 17 and os.path.isdir(save_path):\n",
    "            pass\n",
    "        else:\n",
    "            print('An error happened trying to create ' + save_path)\n",
    "            raise \n",
    "    filename = os.path.join(save_path, str(index) + fname) #'_var_zmat.gjf')\n",
    "    #write to a gaussian input file \n",
    "    file = open(filename, 'a+')\n",
    "    #file.write('#P\\n\\n')\n",
    "    #file.write(index + '\\n\\n')\n",
    "    #file.write('0 1\\n')\n",
    "    for i in range(len(zmatrix)):\n",
    "        pos1, pos2, pos3 = zmatrix[i][1]\n",
    "\n",
    "        if i == 0:\n",
    "            file.write(zmatrix[i][0]) \n",
    "        if i == 1:\n",
    "            atom1=int(pos1[0])+1\n",
    "            #atom2=int(pos2[0])+1\n",
    "            distant=[]\n",
    "            distant=[str('r'+str(zmatrix[atom1][0])+str(atom1)+str(zmatrix[i][0])+str(i+1)),format(pos1[1],'.4f')]\n",
    "            varibables.append(distant)\n",
    "            #angle=[]\n",
    "            #angle=[str('a'+str(zmatrix[atom1][0])+str(atom1)+str(zmatrix[atom2][0])+str(atom2)+str(zmatrix[i][0])+str(i+1))\n",
    "            #   ,format(pos2[1],'.4f')]\n",
    "            #varibables.append(angle)\n",
    "            file.write(zmatrix[i][0] + \n",
    "                       ' '+str(pos1[0]+1)+ ' ' + str(distant[0]))    \n",
    "        if i == 2:\n",
    "            atom1=int(pos1[0])+1\n",
    "            atom2=int(pos2[0])+1\n",
    "            distant=[]\n",
    "            distant=[str('r'+str(zmatrix[atom1][0])+str(atom1)+str(zmatrix[i][0])+str(i+1)),format(pos1[1],'.4f')]\n",
    "            varibables.append(distant)\n",
    "            angle=[]\n",
    "            angle=[str('a'+str(zmatrix[atom1][0])+str(atom1)+str(zmatrix[atom2][0])+str(atom2)+str(zmatrix[i][0])+str(i+1))\n",
    "               ,format(pos2[1],'.4f')]\n",
    "            varibables.append(angle)\n",
    "            file.write(zmatrix[i][0] + \n",
    "                       ' '+str(pos1[0]+1)+ ' ' + str(distant[0]) + \n",
    "                       ' '+str(pos2[0]+1)+ ' ' + str(angle[0]))    \n",
    "        if i > 2:\n",
    "            atom1=int(pos1[0])+1\n",
    "            atom2=int(pos2[0])+1\n",
    "            distant=[]\n",
    "            distant=[str('r'+str(zmatrix[atom1][0])+str(atom1)+str(zmatrix[i][0])+str(i+1)),format(pos1[1],'.4f')]\n",
    "            varibables.append(distant)\n",
    "            angle=[]\n",
    "            angle=[str('a'+str(zmatrix[atom1][0])+str(atom1)+str(zmatrix[atom2][0])+str(atom2)+str(zmatrix[i][0])+str(i+1))\n",
    "               ,format(pos2[1],'.4f')]\n",
    "            varibables.append(angle)\n",
    "            dihidral=[]\n",
    "            dihidral=[str('d'+str(i+1)),format(pos3[1],'.4f')]\n",
    "            varibables.append(dihidral)\n",
    "            file.write(zmatrix[i][0] + \n",
    "                       ' '+str(pos1[0]+1)+ ' ' + str(distant[0]) + \n",
    "                       ' '+str(pos2[0]+1)+ ' ' + str(angle[0]) +\n",
    "                       ' '+str(pos3[0]+1)+ ' ' + str(dihidral[0]) ) \n",
    "        #file.write( zmatrix[i][0] + ' '+ str(zmatrix[i][1]) + '\\n')\n",
    "        file.write('\\n')\n",
    "    #reomove ! in the write statement below before writing estoktp this so it will  oen in gaussian\n",
    "    file.write('\\nintcoor\\n')\n",
    "    for j in range(len(varibables)):\n",
    "        file.write(varibables[j][0] + '\\t\\t' + varibables[j][1] + '\\n')\n",
    "            \n",
    "    file.close()"
   ]
  },
  {
   "cell_type": "code",
   "execution_count": 39,
   "metadata": {},
   "outputs": [],
   "source": [
    "#writezmatrix2(zmatrix,'_var_zmat.gjf')"
   ]
  },
  {
   "cell_type": "code",
   "execution_count": 40,
   "metadata": {},
   "outputs": [
    {
     "data": {
      "text/plain": [
       "[]"
      ]
     },
     "execution_count": 40,
     "metadata": {},
     "output_type": "execute_result"
    }
   ],
   "source": [
    "varibables"
   ]
  },
  {
   "cell_type": "code",
   "execution_count": 41,
   "metadata": {},
   "outputs": [
    {
     "data": {
      "text/plain": [
       "2"
      ]
     },
     "execution_count": 41,
     "metadata": {},
     "output_type": "execute_result"
    }
   ],
   "source": [
    "len(IntRotList)"
   ]
  },
  {
   "cell_type": "code",
   "execution_count": 42,
   "metadata": {},
   "outputs": [
    {
     "data": {
      "text/plain": [
       "[[3, 0, 1, 2], [0, 1, 2, 8]]"
      ]
     },
     "execution_count": 42,
     "metadata": {},
     "output_type": "execute_result"
    }
   ],
   "source": [
    "IntRotList"
   ]
  },
  {
   "cell_type": "code",
   "execution_count": 43,
   "metadata": {},
   "outputs": [],
   "source": [
    "def writeestoketp(introtlist,mol,zmatrix,fname):\n",
    "    cwd = os.getcwd()\n",
    "    save_path = cwd + '/' + str(index)\n",
    "    save_path\n",
    "    #os.makedirs(save_path)\n",
    "    try:\n",
    "        os.makedirs(save_path)\n",
    "    except OSError as ex:\n",
    "        if ex.errno == 17 and os.path.isdir(save_path):\n",
    "            pass\n",
    "        else:\n",
    "            print('An error happened trying to create ' + save_path)\n",
    "            raise \n",
    "    filename = os.path.join(save_path, str(index) + fname)\n",
    "    #write to a gaussian input file \n",
    "    file = open(filename, 'wb')\n",
    "    \n",
    "    file.write('nosmp dthresh ethresh\\n')\n",
    "    file.write('5 1.0 0.00001\\n\\n')\n",
    "    file.write('ntau number of sampled coordinates\\n')\n",
    "    file.write(str(len(IntRotList))+'\\n')\n",
    "    file.write('->namehind,hindmn,hindmx,nhindsteps\\n')\n",
    "    for i in range(len(introtlist)):\n",
    "        file.write(str('d'+str(introtlist[i][3]+1) + ' 0' + ' 120.0'+'\\n'))\n",
    "    \n",
    "    file.write('\\n')\n",
    "    file.write('nhind\\n'+str(len(IntRotList))+'\\n\\n')\n",
    "    file.write('-->namehind,hindmn,hindmx,nhindsteps\\n')\n",
    "    for i in range(len(introtlist)):\n",
    "        file.write(str('d'+str(introtlist[i][3]+1)) + ' 0' + ' 120.0'+ ' 4' + ' 3'+'\\n')\n",
    "    \n",
    "    file.write('\\n')\n",
    "    file.write('natom natomt ilin\\n')\n",
    "    file.write(str(len(zmatrix)) + ' ' +str(len(zmatrix)) + ' 0'+'\\n')\n",
    "    \n",
    "    file.write('\\n')               \n",
    "    file.write('charge spin atomlabel\\n')\n",
    "    file.write('0 '+str(mol.multiplicity)+'\\n')\n",
    "    file.close()\n",
    "    writezmatrix2(zmatrix,fname)\n",
    "    file = open(filename, 'a+')\n",
    "    file.write( '\\nSymmetryFactor\\n 1.\\n\\nelec\\n1\\n 0. 1.\\n' )\n",
    "    file.write('end\\n')\n",
    "    file.write('\\n')\n",
    "    file.close()"
   ]
  },
  {
   "cell_type": "code",
   "execution_count": 44,
   "metadata": {},
   "outputs": [],
   "source": [
    "writeestoketp(IntRotList,prod1,zmatrix,'.dat')"
   ]
  },
  {
   "cell_type": "code",
   "execution_count": null,
   "metadata": {},
   "outputs": [],
   "source": []
  }
 ],
 "metadata": {
  "kernelspec": {
   "display_name": "Python 2",
   "language": "python",
   "name": "python2"
  },
  "language_info": {
   "codemirror_mode": {
    "name": "ipython",
    "version": 2
   },
   "file_extension": ".py",
   "mimetype": "text/x-python",
   "name": "python",
   "nbconvert_exporter": "python",
   "pygments_lexer": "ipython2",
   "version": "2.7.15"
  }
 },
 "nbformat": 4,
 "nbformat_minor": 2
}
